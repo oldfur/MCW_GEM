{
 "cells": [
  {
   "cell_type": "code",
   "execution_count": 9,
   "id": "66bb7ce9",
   "metadata": {},
   "outputs": [
    {
     "name": "stdout",
     "output_type": "stream",
     "text": [
      "{3: [0, 3, 6, 12], 5: [1, 9, 14], 2: [2, 5, 15], 7: [4], 1: [7], 9: [8], 8: [10], 6: [11], 4: [13], 0: [16]}\n",
      "[{'index': [16]}, {'index': [7]}, {'index': [2, 5, 15]}, {'index': [0, 3, 6, 12]}, {'index': [13]}, {'index': [1, 9, 14]}, {'index': [11]}, {'index': [4]}, {'index': [10]}, {'index': [8]}]\n"
     ]
    }
   ],
   "source": [
    "from collections import defaultdict\n",
    "import torch\n",
    "\n",
    "x = torch.tensor([3, 5, 2, 3, 7, 2, 3, 1, 9, 5, 8, 6, 3, 4, 5, 2, 0])\n",
    "# counts = torch.bincount(x)\n",
    "# print(counts)\n",
    "\n",
    "index_dict = defaultdict(list)\n",
    "for idx, val in enumerate(x.tolist()):\n",
    "    index_dict[val].append(idx)\n",
    "\n",
    "index_dict = dict(index_dict)\n",
    "print(index_dict)\n",
    "# 输出: {3: [0, 3, 6], 2: [2, 5]}\n",
    "batch = []\n",
    "bs = 10\n",
    "for i in range(bs):\n",
    "    cur_dict = {}\n",
    "    cur_dict['index'] = index_dict[i] if i in index_dict else []\n",
    "    batch.append(cur_dict)\n",
    "print(batch)"
   ]
  },
  {
   "cell_type": "code",
   "execution_count": 4,
   "id": "21b28a9e",
   "metadata": {},
   "outputs": [
    {
     "name": "stdout",
     "output_type": "stream",
     "text": [
      "tensor([[0, 0],\n",
      "        [1, 1],\n",
      "        [2, 2],\n",
      "        [3, 3],\n",
      "        [4, 4],\n",
      "        [5, 5],\n",
      "        [6, 6],\n",
      "        [7, 7],\n",
      "        [8, 8],\n",
      "        [9, 9]])\n",
      "tensor([0, 0])\n",
      "tensor([1, 1])\n",
      "tensor([7, 7])\n",
      "tensor([9, 9])\n"
     ]
    }
   ],
   "source": [
    "import torch\n",
    "edge_index = [\n",
    "    [0, 1, 2, 3, 4, 5, 6, 7, 8, 9],\n",
    "    [0, 1, 2, 3, 4, 5, 6, 7, 8, 9]\n",
    "]\n",
    "index = torch.tensor([0, 1, 7, 9], dtype=torch.long)\n",
    "edge_index = torch.tensor(edge_index, dtype=torch.long).T\n",
    "print(edge_index)\n",
    "for edge in edge_index:\n",
    "    if edge[0] in index or edge[1] in index:\n",
    "        print(edge)"
   ]
  },
  {
   "cell_type": "code",
   "execution_count": 16,
   "id": "3a1382a0",
   "metadata": {},
   "outputs": [
    {
     "name": "stdout",
     "output_type": "stream",
     "text": [
      "45229\n",
      "data_dict.keys():  ['anchors', 'wyckoff_ops', 'spacegroup', 'mp_id', 'cif', 'graph_arrays', 'formation_energy_per_atom', 'band_gap', 'e_above_hull']\n",
      "data_dict['anchors']:  [0 0 0 0 4 4 4 4]\n",
      "data_dict['spacegroup']:  194\n",
      "data_dict['mp_id']:  mp-10009\n",
      "data_dict['graph_arrays'].keys():  ['atom_types', 'frac_coords', 'cell', 'lattices', 'lengths', 'angles', 'edge_indices', 'to_jimages', 'num_atoms']\n",
      "data_dict['formation_energy_per_atom']:  -0.5750923537499997\n",
      "data_dict['band_gap']:  0.8979999999999997\n",
      "data_dict['e_above_hull']:  0.0\n"
     ]
    }
   ],
   "source": [
    "import torch \n",
    "import os\n",
    "root = \".\"\n",
    "cached_data = torch.load(os.path.join(root, \"processed/all_ori.pt\"))\n",
    "print(len(cached_data))\n",
    "for data_dict in cached_data:\n",
    "    print(\"data_dict.keys(): \", list(data_dict.keys()))\n",
    "    print(\"data_dict['anchors']: \", data_dict['anchors'])\n",
    "    # print(\"data_dict['wyckoff_ops']: \", data_dict['wyckoff_ops'])\n",
    "    # 描述某个原子在空间群对称操作下，对应的 Wyckoff 位置的运算符集合（即对称生成的位置）\n",
    "    print(\"data_dict['spacegroup']: \", data_dict['spacegroup'])\n",
    "    print(\"data_dict['mp_id']: \", data_dict['mp_id'])\n",
    "    # print(\"data_dict['cif']: \", data_dict['cif'])\n",
    "\n",
    "    graph_arrays = data_dict[\"graph_arrays\"]\n",
    "    print(\"data_dict['graph_arrays'].keys(): \", list(graph_arrays.keys()))\n",
    "\n",
    "    print(\"data_dict['formation_energy_per_atom']: \", data_dict['formation_energy_per_atom'])\n",
    "    # 每个原子对应的形成能。定义为材料与其构成元素在最稳定单质状态下的能量差\n",
    "    print(\"data_dict['band_gap']: \", data_dict['band_gap'])\n",
    "    print(\"data_dict['e_above_hull']: \", data_dict['e_above_hull'])\n",
    "    break"
   ]
  },
  {
   "cell_type": "code",
   "execution_count": null,
   "id": "333101e7",
   "metadata": {},
   "outputs": [
    {
     "name": "stdout",
     "output_type": "stream",
     "text": [
      "dict_keys(['num_atoms', 'charges', 'positions', 'index', 'A', 'B', 'C', 'mu', 'alpha', 'homo', 'lumo', 'gap', 'r2', 'zpve', 'U0', 'U', 'H', 'G', 'Cv', 'omega1', 'zpve_thermo', 'U0_thermo', 'U_thermo', 'H_thermo', 'G_thermo', 'Cv_thermo'])\n"
     ]
    }
   ],
   "source": [
    "import numpy as np\n",
    "# Load downloaded/processed datasets\n",
    "datafile = os.path.join(\"/home/mcw/UniGEM/qm9/temp/qm9/train.npz\")\n",
    "with np.load(datafile) as f:\n",
    "    datasets = {key: torch.from_numpy(val) for key, val in f.items()}\n",
    "print(datasets.keys())\n",
    "# output:\n",
    "# dict_keys(['num_atoms', 'charges', 'positions', 'index', 'A', 'B', 'C', 'mu', 'alpha', 'homo', 'lumo', 'gap', \n",
    "# 'r2', 'zpve', 'U0', 'U', 'H', 'G', 'Cv', 'omega1', 'zpve_thermo', 'U0_thermo', 'U_thermo', 'H_thermo', 'G_thermo', 'Cv_thermo'])"
   ]
  },
  {
   "cell_type": "code",
   "execution_count": 13,
   "id": "43562814",
   "metadata": {},
   "outputs": [
    {
     "name": "stdout",
     "output_type": "stream",
     "text": [
      "torch.Size([1, 3])\n",
      "torch.Size([2, 1])\n",
      "tensor([[ 1.0549, -1.6198,  0.3320,  1.0549, -1.6198,  0.3320,  1.0549, -1.6198,\n",
      "          0.3320,  1.0549, -1.6198,  0.3320,  1.0549, -1.6198,  0.3320,  1.0549,\n",
      "         -1.6198,  0.3320,  1.0549, -1.6198,  0.3320,  1.0549, -1.6198,  0.3320,\n",
      "          1.0549, -1.6198,  0.3320,  1.0549, -1.6198,  0.3320]])\n",
      "torch.Size([1, 30])\n",
      "tensor([[ 1.0549, -1.6198,  0.3320],\n",
      "        [ 1.0549, -1.6198,  0.3320],\n",
      "        [ 1.0549, -1.6198,  0.3320],\n",
      "        [ 1.0549, -1.6198,  0.3320],\n",
      "        [ 1.0549, -1.6198,  0.3320],\n",
      "        [ 1.0549, -1.6198,  0.3320],\n",
      "        [ 1.0549, -1.6198,  0.3320],\n",
      "        [ 1.0549, -1.6198,  0.3320],\n",
      "        [ 1.0549, -1.6198,  0.3320],\n",
      "        [ 1.0549, -1.6198,  0.3320]])\n",
      "tensor([[ 1.0549, -1.6198,  0.3320],\n",
      "        [ 1.0549, -1.6198,  0.3320],\n",
      "        [ 1.0549, -1.6198,  0.3320],\n",
      "        [ 1.0549, -1.6198,  0.3320],\n",
      "        [ 1.0549, -1.6198,  0.3320],\n",
      "        [ 1.0549, -1.6198,  0.3320],\n",
      "        [ 1.0549, -1.6198,  0.3320],\n",
      "        [ 1.0549, -1.6198,  0.3320],\n",
      "        [ 1.0549, -1.6198,  0.3320],\n",
      "        [ 1.0549, -1.6198,  0.3320]])\n"
     ]
    }
   ],
   "source": [
    "import torch\n",
    "l = torch.tensor([[1.0549, -1.6198,  0.3320]])\n",
    "t = torch.tensor([[1.],[1.]])\n",
    "print(l.shape)\n",
    "print(t.shape)\n",
    "\n",
    "l = l.repeat(1, 10)\n",
    "print(l)\n",
    "print(l.shape)\n",
    "print(l.reshape(10,-1))\n",
    "print(l.view(10,-1))"
   ]
  },
  {
   "cell_type": "code",
   "execution_count": null,
   "id": "f1a99192",
   "metadata": {},
   "outputs": [],
   "source": [
    "import pandas as pd\n",
    "import os\n",
    "dataset_folder_path = \".\"\n",
    "dataset_cif_list=pd.read_csv(\n",
    "                os.path.join(dataset_folder_path, \"/all.csv\")\n",
    "            )[\"cif\"].tolist()"
   ]
  }
 ],
 "metadata": {
  "kernelspec": {
   "display_name": "GaUDI",
   "language": "python",
   "name": "python3"
  },
  "language_info": {
   "codemirror_mode": {
    "name": "ipython",
    "version": 3
   },
   "file_extension": ".py",
   "mimetype": "text/x-python",
   "name": "python",
   "nbconvert_exporter": "python",
   "pygments_lexer": "ipython3",
   "version": "3.8.16"
  }
 },
 "nbformat": 4,
 "nbformat_minor": 5
}
